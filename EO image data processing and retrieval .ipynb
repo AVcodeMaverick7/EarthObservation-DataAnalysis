{
 "cells": [
  {
   "cell_type": "markdown",
   "metadata": {},
   "source": [
    "## EARTH OBSERVATION DATA ANALYSIS\n",
    "### EXERCISE 5\n",
    "- NAME : VIKRANTH ALE \n",
    "- MATRICOLA : 1873995"
   ]
  },
  {
   "cell_type": "code",
   "execution_count": 1,
   "metadata": {},
   "outputs": [],
   "source": [
    "#loading required libraries\n",
    "import pandas as pd \n",
    "import numpy as np\n",
    "from sklearn.cluster import KMeans\n",
    "from sklearn.decomposition import PCA\n",
    "from sklearn.metrics import confusion_matrix, accuracy_score, classification_report, cohen_kappa_score\n",
    "import matplotlib.pyplot as plt"
   ]
  },
  {
   "cell_type": "code",
   "execution_count": 2,
   "metadata": {},
   "outputs": [],
   "source": [
    "#Loading the input channel data\n",
    "ch1 = np.loadtxt('Image_ch1_spectralRadiance.dat')\n",
    "ch2 = np.loadtxt('Image_ch2_spectralReflectance.dat')\n",
    "class_label = np.loadtxt('Image_class_insituLabels.dat')\n",
    "surface_temp = np.loadtxt('Image_parameter_insituMeasurements.dat')"
   ]
  },
  {
   "cell_type": "code",
   "execution_count": 3,
   "metadata": {
    "scrolled": false
   },
   "outputs": [
    {
     "data": {
      "image/png": "[encoded data removed]",
      "text/plain": [
       "<Figure size 864x504 with 8 Axes>"
      ]
     },
     "metadata": {
      "needs_background": "light"
     },
     "output_type": "display_data"
    }
   ],
   "source": [
    "#plotting the matrix\n",
    "\n",
    "fig, axs = plt.subplots(nrows=2, ncols=2, figsize=(12, 7),constrained_layout=True)\n",
    "channels = [ch1,ch2,class_label,surface_temp]\n",
    "titles  = ['Channel 1 Spectral Radiance','Channel 2 Spectral Reflectance','Test Class Label Image','Parameter Image']\n",
    "\n",
    "for ax,ch,title in zip(axs.flat,channels,titles):\n",
    "    clrbar = ax.imshow(ch, cmap = 'viridis', interpolation='nearest')\n",
    "    fig.colorbar(clrbar, ax=ax)\n",
    "    ax.set_xlabel('x coordinate')\n",
    "    ax.set_ylabel('y coordinate')\n",
    "    ax.set_title(str(title))"
   ]
  },
  {
   "cell_type": "code",
   "execution_count": 4,
   "metadata": {
    "scrolled": true
   },
   "outputs": [
    {
     "data": {
      "text/html": [
       "<div>\n",
       "<style scoped>\n",
       "    .dataframe tbody tr th:only-of-type {\n",
       "        vertical-align: middle;\n",
       "    }\n",
       "\n",
       "    .dataframe tbody tr th {\n",
       "        vertical-align: top;\n",
       "    }\n",
       "\n",
       "    .dataframe thead th {\n",
       "        text-align: right;\n",
       "    }\n",
       "</style>\n",
       "<table border=\"1\" class=\"dataframe\">\n",
       "  <thead>\n",
       "    <tr style=\"text-align: right;\">\n",
       "      <th></th>\n",
       "      <th>radiance</th>\n",
       "      <th>reflectance</th>\n",
       "      <th>label</th>\n",
       "      <th>surface_temp</th>\n",
       "    </tr>\n",
       "  </thead>\n",
       "  <tbody>\n",
       "    <tr>\n",
       "      <th>0</th>\n",
       "      <td>2.068526</td>\n",
       "      <td>0.579204</td>\n",
       "      <td>cloud cover</td>\n",
       "      <td>277.39425</td>\n",
       "    </tr>\n",
       "    <tr>\n",
       "      <th>1</th>\n",
       "      <td>1.588779</td>\n",
       "      <td>0.725697</td>\n",
       "      <td>cloud cover</td>\n",
       "      <td>266.11364</td>\n",
       "    </tr>\n",
       "    <tr>\n",
       "      <th>2</th>\n",
       "      <td>2.308740</td>\n",
       "      <td>0.838262</td>\n",
       "      <td>cloud cover</td>\n",
       "      <td>277.84215</td>\n",
       "    </tr>\n",
       "    <tr>\n",
       "      <th>3</th>\n",
       "      <td>4.651697</td>\n",
       "      <td>0.338762</td>\n",
       "      <td>sea water</td>\n",
       "      <td>297.25935</td>\n",
       "    </tr>\n",
       "    <tr>\n",
       "      <th>4</th>\n",
       "      <td>3.197330</td>\n",
       "      <td>0.246227</td>\n",
       "      <td>sea water</td>\n",
       "      <td>282.75330</td>\n",
       "    </tr>\n",
       "    <tr>\n",
       "      <th>5</th>\n",
       "      <td>3.413580</td>\n",
       "      <td>0.164858</td>\n",
       "      <td>sea water</td>\n",
       "      <td>288.30717</td>\n",
       "    </tr>\n",
       "    <tr>\n",
       "      <th>6</th>\n",
       "      <td>2.951153</td>\n",
       "      <td>0.645951</td>\n",
       "      <td>cloud cover</td>\n",
       "      <td>279.79463</td>\n",
       "    </tr>\n",
       "    <tr>\n",
       "      <th>7</th>\n",
       "      <td>1.358214</td>\n",
       "      <td>0.909161</td>\n",
       "      <td>cloud cover</td>\n",
       "      <td>267.95825</td>\n",
       "    </tr>\n",
       "    <tr>\n",
       "      <th>8</th>\n",
       "      <td>1.429915</td>\n",
       "      <td>0.768129</td>\n",
       "      <td>cloud cover</td>\n",
       "      <td>273.07966</td>\n",
       "    </tr>\n",
       "    <tr>\n",
       "      <th>9</th>\n",
       "      <td>4.225014</td>\n",
       "      <td>0.284818</td>\n",
       "      <td>sea water</td>\n",
       "      <td>289.70766</td>\n",
       "    </tr>\n",
       "  </tbody>\n",
       "</table>\n",
       "</div>"
      ],
      "text/plain": [
       "   radiance  reflectance        label  surface_temp\n",
       "0  2.068526     0.579204  cloud cover     277.39425\n",
       "1  1.588779     0.725697  cloud cover     266.11364\n",
       "2  2.308740     0.838262  cloud cover     277.84215\n",
       "3  4.651697     0.338762    sea water     297.25935\n",
       "4  3.197330     0.246227    sea water     282.75330\n",
       "5  3.413580     0.164858    sea water     288.30717\n",
       "6  2.951153     0.645951  cloud cover     279.79463\n",
       "7  1.358214     0.909161  cloud cover     267.95825\n",
       "8  1.429915     0.768129  cloud cover     273.07966\n",
       "9  4.225014     0.284818    sea water     289.70766"
      ]
     },
     "execution_count": 4,
     "metadata": {},
     "output_type": "execute_result"
    }
   ],
   "source": [
    "# Creating a dataframe from both the channels with their labels\n",
    "df = pd.DataFrame({'radiance':ch1.flatten(),'reflectance':ch2.flatten(),'label':class_label.flatten(),'surface_temp':surface_temp.flatten()})\n",
    "df['label'] = df['label'].astype(int)\n",
    "dff = df.copy()\n",
    "dff['label'].replace(1,'cloud cover',inplace=True)\n",
    "dff['label'].replace(2,'sea water',inplace=True)\n",
    "dff.head(10)"
   ]
  },
  {
   "cell_type": "code",
   "execution_count": 5,
   "metadata": {},
   "outputs": [
    {
     "data": {
      "text/plain": [
       "Index(['radiance', 'reflectance', 'label', 'surface_temp'], dtype='object')"
      ]
     },
     "execution_count": 5,
     "metadata": {},
     "output_type": "execute_result"
    }
   ],
   "source": [
    "df.columns"
   ]
  },
  {
   "cell_type": "markdown",
   "metadata": {},
   "source": [
    "### 1.  Plot the acquired spectral reflectance vs and spectral radiance and possibly superimpose the class label to each observation, explaining why you expect these classes can represent particle cloud and sea surface radiative signature. "
   ]
  },
  {
   "cell_type": "code",
   "execution_count": 6,
   "metadata": {},
   "outputs": [
    {
     "data": {
      "text/plain": [
       "<matplotlib.axes._subplots.AxesSubplot at 0x1a293d3bb38>"
      ]
     },
     "execution_count": 6,
     "metadata": {},
     "output_type": "execute_result"
    },
    {
     "data": {
      "image/png": "[encoded data removed]",
      "text/plain": [
       "<Figure size 432x288 with 2 Axes>"
      ]
     },
     "metadata": {
      "needs_background": "light"
     },
     "output_type": "display_data"
    }
   ],
   "source": [
    "fig, ax = plt.subplots()\n",
    "\n",
    "df.plot.scatter(x='radiance',y='reflectance',c='label', s=50, marker='o', \\\n",
    "                cmap='viridis',title='Channel 1 vs Channel 2 data',ax=ax)"
   ]
  },
  {
   "cell_type": "markdown",
   "metadata": {},
   "source": [
    "We know that\n",
    "For clouds,  reflectance is more and radiance is less\n",
    "For seawater, reflectance is less and radiance is more\n",
    "\n",
    "The same can be observed after analysing both channels and their surface temperature, Sea water has generally more surface temperature due to absorption of solar radiation and warms up. So it is justified that they are classified correctly due to their radiative signature."
   ]
  },
  {
   "cell_type": "markdown",
   "metadata": {},
   "source": [
    "### 2. Perform a Lloyd’s k-means unsupervised classification and, by using the in-situ class labels, compute the confusion (or contingency) matrix (CM). "
   ]
  },
  {
   "cell_type": "markdown",
   "metadata": {},
   "source": [
    "### UNSUPERVISED CLASSIFICATION\n",
    "#### Lloyd's KMeans"
   ]
  },
  {
   "cell_type": "code",
   "execution_count": 7,
   "metadata": {},
   "outputs": [
    {
     "data": {
      "text/html": [
       "<div>\n",
       "<style scoped>\n",
       "    .dataframe tbody tr th:only-of-type {\n",
       "        vertical-align: middle;\n",
       "    }\n",
       "\n",
       "    .dataframe tbody tr th {\n",
       "        vertical-align: top;\n",
       "    }\n",
       "\n",
       "    .dataframe thead th {\n",
       "        text-align: right;\n",
       "    }\n",
       "</style>\n",
       "<table border=\"1\" class=\"dataframe\">\n",
       "  <thead>\n",
       "    <tr style=\"text-align: right;\">\n",
       "      <th></th>\n",
       "      <th>radiance</th>\n",
       "      <th>reflectance</th>\n",
       "      <th>surface_temp</th>\n",
       "    </tr>\n",
       "  </thead>\n",
       "  <tbody>\n",
       "    <tr>\n",
       "      <th>0</th>\n",
       "      <td>2.068526</td>\n",
       "      <td>0.579204</td>\n",
       "      <td>277.39425</td>\n",
       "    </tr>\n",
       "    <tr>\n",
       "      <th>1</th>\n",
       "      <td>1.588779</td>\n",
       "      <td>0.725697</td>\n",
       "      <td>266.11364</td>\n",
       "    </tr>\n",
       "    <tr>\n",
       "      <th>2</th>\n",
       "      <td>2.308740</td>\n",
       "      <td>0.838262</td>\n",
       "      <td>277.84215</td>\n",
       "    </tr>\n",
       "    <tr>\n",
       "      <th>3</th>\n",
       "      <td>4.651697</td>\n",
       "      <td>0.338762</td>\n",
       "      <td>297.25935</td>\n",
       "    </tr>\n",
       "    <tr>\n",
       "      <th>4</th>\n",
       "      <td>3.197330</td>\n",
       "      <td>0.246227</td>\n",
       "      <td>282.75330</td>\n",
       "    </tr>\n",
       "  </tbody>\n",
       "</table>\n",
       "</div>"
      ],
      "text/plain": [
       "   radiance  reflectance  surface_temp\n",
       "0  2.068526     0.579204     277.39425\n",
       "1  1.588779     0.725697     266.11364\n",
       "2  2.308740     0.838262     277.84215\n",
       "3  4.651697     0.338762     297.25935\n",
       "4  3.197330     0.246227     282.75330"
      ]
     },
     "execution_count": 7,
     "metadata": {},
     "output_type": "execute_result"
    }
   ],
   "source": [
    "Kdata =  df.copy()\n",
    "Kdata = Kdata[['radiance','reflectance','surface_temp']]\n",
    "Kdata.head()"
   ]
  },
  {
   "cell_type": "code",
   "execution_count": 8,
   "metadata": {},
   "outputs": [
    {
     "data": {
      "text/plain": [
       "KMeans(algorithm='auto', copy_x=True, init='k-means++', max_iter=300,\n",
       "       n_clusters=2, n_init=10, n_jobs=None, precompute_distances='auto',\n",
       "       random_state=None, tol=0.0001, verbose=0)"
      ]
     },
     "execution_count": 8,
     "metadata": {},
     "output_type": "execute_result"
    }
   ],
   "source": [
    "# KMeans\n",
    "kmob = KMeans(n_clusters=2)\n",
    "kmob"
   ]
  },
  {
   "cell_type": "code",
   "execution_count": 9,
   "metadata": {},
   "outputs": [
    {
     "data": {
      "text/html": [
       "<div>\n",
       "<style scoped>\n",
       "    .dataframe tbody tr th:only-of-type {\n",
       "        vertical-align: middle;\n",
       "    }\n",
       "\n",
       "    .dataframe tbody tr th {\n",
       "        vertical-align: top;\n",
       "    }\n",
       "\n",
       "    .dataframe thead th {\n",
       "        text-align: right;\n",
       "    }\n",
       "</style>\n",
       "<table border=\"1\" class=\"dataframe\">\n",
       "  <thead>\n",
       "    <tr style=\"text-align: right;\">\n",
       "      <th></th>\n",
       "      <th>radiance</th>\n",
       "      <th>reflectance</th>\n",
       "      <th>surface_temp</th>\n",
       "      <th>cluster</th>\n",
       "    </tr>\n",
       "  </thead>\n",
       "  <tbody>\n",
       "    <tr>\n",
       "      <th>0</th>\n",
       "      <td>2.068526</td>\n",
       "      <td>0.579204</td>\n",
       "      <td>277.39425</td>\n",
       "      <td>1</td>\n",
       "    </tr>\n",
       "    <tr>\n",
       "      <th>1</th>\n",
       "      <td>1.588779</td>\n",
       "      <td>0.725697</td>\n",
       "      <td>266.11364</td>\n",
       "      <td>1</td>\n",
       "    </tr>\n",
       "    <tr>\n",
       "      <th>2</th>\n",
       "      <td>2.308740</td>\n",
       "      <td>0.838262</td>\n",
       "      <td>277.84215</td>\n",
       "      <td>1</td>\n",
       "    </tr>\n",
       "    <tr>\n",
       "      <th>3</th>\n",
       "      <td>4.651697</td>\n",
       "      <td>0.338762</td>\n",
       "      <td>297.25935</td>\n",
       "      <td>2</td>\n",
       "    </tr>\n",
       "    <tr>\n",
       "      <th>4</th>\n",
       "      <td>3.197330</td>\n",
       "      <td>0.246227</td>\n",
       "      <td>282.75330</td>\n",
       "      <td>2</td>\n",
       "    </tr>\n",
       "    <tr>\n",
       "      <th>5</th>\n",
       "      <td>3.413580</td>\n",
       "      <td>0.164858</td>\n",
       "      <td>288.30717</td>\n",
       "      <td>2</td>\n",
       "    </tr>\n",
       "    <tr>\n",
       "      <th>6</th>\n",
       "      <td>2.951153</td>\n",
       "      <td>0.645951</td>\n",
       "      <td>279.79463</td>\n",
       "      <td>1</td>\n",
       "    </tr>\n",
       "    <tr>\n",
       "      <th>7</th>\n",
       "      <td>1.358214</td>\n",
       "      <td>0.909161</td>\n",
       "      <td>267.95825</td>\n",
       "      <td>1</td>\n",
       "    </tr>\n",
       "    <tr>\n",
       "      <th>8</th>\n",
       "      <td>1.429915</td>\n",
       "      <td>0.768129</td>\n",
       "      <td>273.07966</td>\n",
       "      <td>1</td>\n",
       "    </tr>\n",
       "    <tr>\n",
       "      <th>9</th>\n",
       "      <td>4.225014</td>\n",
       "      <td>0.284818</td>\n",
       "      <td>289.70766</td>\n",
       "      <td>2</td>\n",
       "    </tr>\n",
       "  </tbody>\n",
       "</table>\n",
       "</div>"
      ],
      "text/plain": [
       "   radiance  reflectance  surface_temp  cluster\n",
       "0  2.068526     0.579204     277.39425        1\n",
       "1  1.588779     0.725697     266.11364        1\n",
       "2  2.308740     0.838262     277.84215        1\n",
       "3  4.651697     0.338762     297.25935        2\n",
       "4  3.197330     0.246227     282.75330        2\n",
       "5  3.413580     0.164858     288.30717        2\n",
       "6  2.951153     0.645951     279.79463        1\n",
       "7  1.358214     0.909161     267.95825        1\n",
       "8  1.429915     0.768129     273.07966        1\n",
       "9  4.225014     0.284818     289.70766        2"
      ]
     },
     "execution_count": 9,
     "metadata": {},
     "output_type": "execute_result"
    }
   ],
   "source": [
    "kmob.fit_predict(Kdata[['radiance','reflectance','surface_temp']])\n",
    "kpred = kmob.labels_ + 1 \n",
    "Kdata['cluster'] = kpred.copy()\n",
    "Kdata.head(10)"
   ]
  },
  {
   "cell_type": "code",
   "execution_count": 10,
   "metadata": {},
   "outputs": [
    {
     "data": {
      "text/plain": [
       "<matplotlib.legend.Legend at 0x1a293ca98d0>"
      ]
     },
     "execution_count": 10,
     "metadata": {},
     "output_type": "execute_result"
    },
    {
     "data": {
      "image/png": "[encoded data removed]",
      "text/plain": [
       "<Figure size 432x288 with 1 Axes>"
      ]
     },
     "metadata": {
      "needs_background": "light"
     },
     "output_type": "display_data"
    }
   ],
   "source": [
    "df1 = Kdata[Kdata.cluster==1]\n",
    "df2 = Kdata[Kdata.cluster==2]\n",
    "\n",
    "plt.scatter(df1['radiance'],df1['reflectance'],color='blue',label='Cloud Cover')\n",
    "plt.scatter(df2['radiance'],df2['reflectance'],color='green',label='Sea Water')\n",
    "\n",
    "\n",
    "plt.xlabel('radiance')\n",
    "plt.ylabel('reflectance')\n",
    "plt.title('KMeans Clustering')\n",
    "plt.legend()"
   ]
  },
  {
   "cell_type": "code",
   "execution_count": 11,
   "metadata": {},
   "outputs": [
    {
     "data": {
      "text/plain": [
       "array([[18,  0],\n",
       "       [ 2, 16]], dtype=int64)"
      ]
     },
     "execution_count": 11,
     "metadata": {},
     "output_type": "execute_result"
    }
   ],
   "source": [
    "#Confusion Matrix\n",
    "ConfusionM =  confusion_matrix(df['label'],kpred)\n",
    "ConfusionM"
   ]
  },
  {
   "cell_type": "markdown",
   "metadata": {},
   "source": [
    "From the above confusion matrix , we have TP = 18, FP = 0 , FN = 2 , TN = 16"
   ]
  },
  {
   "cell_type": "code",
   "execution_count": 12,
   "metadata": {},
   "outputs": [
    {
     "data": {
      "text/plain": [
       "0.9444444444444444"
      ]
     },
     "execution_count": 12,
     "metadata": {},
     "output_type": "execute_result"
    }
   ],
   "source": [
    "Accuracy_score = accuracy_score(df['label'],kpred)\n",
    "Accuracy_score"
   ]
  },
  {
   "cell_type": "code",
   "execution_count": 13,
   "metadata": {},
   "outputs": [
    {
     "name": "stdout",
     "output_type": "stream",
     "text": [
      "              precision    recall  f1-score   support\n",
      "\n",
      "           1       0.90      1.00      0.95        18\n",
      "           2       1.00      0.89      0.94        18\n",
      "\n",
      "    accuracy                           0.94        36\n",
      "   macro avg       0.95      0.94      0.94        36\n",
      "weighted avg       0.95      0.94      0.94        36\n",
      "\n"
     ]
    }
   ],
   "source": [
    "class_report = classification_report(df['label'],kpred)\n",
    "print(class_report)"
   ]
  },
  {
   "cell_type": "markdown",
   "metadata": {},
   "source": [
    "### 3. From the confusion matrix, compute the probability of detection (POD, sensitivity or true positive), false alarm rate (FAR, false negative) and Cohen’s index k."
   ]
  },
  {
   "cell_type": "markdown",
   "metadata": {},
   "source": [
    "                       \n",
    "$Sensitivity/TPR  = \\frac{TP}{TP + FN}$\n",
    "\n",
    "$DetectionRate = \\frac{TP}{TP + FP + FN + TN}$\n",
    "\n",
    "$FalseNegative     = \\frac{FN}{FN + TP}$\n",
    "\n",
    "$FalseDicoveryRate = \\frac{FP}{FP + TP}$\n",
    "                         "
   ]
  },
  {
   "cell_type": "code",
   "execution_count": 14,
   "metadata": {},
   "outputs": [
    {
     "name": "stdout",
     "output_type": "stream",
     "text": [
      "Sensitivity is 0.9\n"
     ]
    }
   ],
   "source": [
    "# sensitivity \n",
    "\n",
    "sensitivity =  ConfusionM[0,0] / (ConfusionM[0,0] + ConfusionM[1,0])\n",
    "print('Sensitivity is {}'.format(sensitivity))"
   ]
  },
  {
   "cell_type": "code",
   "execution_count": 15,
   "metadata": {},
   "outputs": [
    {
     "name": "stdout",
     "output_type": "stream",
     "text": [
      "Detection Rate is 0.5\n"
     ]
    }
   ],
   "source": [
    "#Detection Rate \n",
    "\n",
    "Drate = ConfusionM[0,0] / (ConfusionM[0,0] + ConfusionM[0,1] + ConfusionM[1,0] + ConfusionM[1,1])\n",
    "print('Detection Rate is {}'.format(Drate))"
   ]
  },
  {
   "cell_type": "code",
   "execution_count": 16,
   "metadata": {},
   "outputs": [
    {
     "name": "stdout",
     "output_type": "stream",
     "text": [
      "False Negative Rate is 0.1\n"
     ]
    }
   ],
   "source": [
    "# False Negative Rate \n",
    "\n",
    "FNrate =  ConfusionM[1,0] / (ConfusionM[1,0] + ConfusionM[0,0])\n",
    "print('False Negative Rate is {}'.format(FNrate))"
   ]
  },
  {
   "cell_type": "code",
   "execution_count": 17,
   "metadata": {},
   "outputs": [
    {
     "name": "stdout",
     "output_type": "stream",
     "text": [
      "False Discovery Rate is 0.0\n"
     ]
    }
   ],
   "source": [
    "# False Negative Rate \n",
    "\n",
    "FDrate =  ConfusionM[0,1] / (ConfusionM[0,1] + ConfusionM[0,0])\n",
    "print('False Discovery Rate is {}'.format(FDrate))"
   ]
  },
  {
   "cell_type": "markdown",
   "metadata": {},
   "source": [
    "### Cohen's kappa coefficient (κ)\n",
    "\n",
    "Manual calculation of Cohen's kappa coefficient score\n",
    "\n",
    "$pYES = \\frac{TP + FP}{TP + FP + FN + TN} * \\frac{TP+FN}{TP + FP + FN + TN}$\n",
    "\n",
    "\n",
    "$pNO = \\frac{FN + TN}{TP + FP + FN + TN} * \\frac{FP + TN}{TP + FP + FN + TN}$\n",
    "\n",
    "\n",
    "$p_o = \\frac{TP + TN }{ TP + FP + FN + TN}$\n",
    "\n",
    "\n",
    "$p_e = pYES + pNO$\n",
    "       \n",
    "\n",
    "Therefore, Cohen's kappa coefficient (κ) is given by  $k = \\frac{p_o - p_e}{1 - p_e}$"
   ]
  },
  {
   "cell_type": "code",
   "execution_count": 18,
   "metadata": {},
   "outputs": [
    {
     "name": "stdout",
     "output_type": "stream",
     "text": [
      "The value of po is 0.9444444444444444\n"
     ]
    }
   ],
   "source": [
    "# calculation of po\n",
    "\n",
    "po = (ConfusionM[0,0] + ConfusionM[1,1]) / (ConfusionM[0,0] + ConfusionM[0,1] + ConfusionM[1,0] + ConfusionM[1,1])\n",
    "print('The value of po is {}'.format(po))"
   ]
  },
  {
   "cell_type": "code",
   "execution_count": 19,
   "metadata": {},
   "outputs": [
    {
     "name": "stdout",
     "output_type": "stream",
     "text": [
      "The value of pYES is 0.2777777777777778\n"
     ]
    }
   ],
   "source": [
    "# calculation of pYES\n",
    "\n",
    "a = (ConfusionM[0,0] + ConfusionM[0,1]) / (ConfusionM[0,0] + ConfusionM[0,1] + ConfusionM[1,0] + ConfusionM[1,1])\n",
    "b = (ConfusionM[0,0] + ConfusionM[1,0]) / (ConfusionM[0,0] + ConfusionM[0,1] + ConfusionM[1,0] + ConfusionM[1,1])\n",
    "pYES = a * b   \n",
    "print('The value of pYES is {}'.format(pYES))"
   ]
  },
  {
   "cell_type": "code",
   "execution_count": 20,
   "metadata": {},
   "outputs": [
    {
     "name": "stdout",
     "output_type": "stream",
     "text": [
      "The value of pNO is 0.2222222222222222\n"
     ]
    }
   ],
   "source": [
    "# calculation of pNO\n",
    "\n",
    "c = (ConfusionM[1,0] + ConfusionM[1,1]) / (ConfusionM[0,0] + ConfusionM[0,1] + ConfusionM[1,0] + ConfusionM[1,1])\n",
    "d = (ConfusionM[0,1] + ConfusionM[1,1]) / (ConfusionM[0,0] + ConfusionM[0,1] + ConfusionM[1,0] + ConfusionM[1,1])\n",
    "pNO = c * d   \n",
    "print('The value of pNO is {}'.format(pNO))"
   ]
  },
  {
   "cell_type": "code",
   "execution_count": 21,
   "metadata": {},
   "outputs": [
    {
     "name": "stdout",
     "output_type": "stream",
     "text": [
      "The value of pe is 0.5\n"
     ]
    }
   ],
   "source": [
    "# calculation of pe\n",
    "pe = pYES + pNO\n",
    "print('The value of pe is {}'.format(pe))\n"
   ]
  },
  {
   "cell_type": "code",
   "execution_count": 22,
   "metadata": {},
   "outputs": [
    {
     "name": "stdout",
     "output_type": "stream",
     "text": [
      "The calculated value of Cohens kappa coefficient (κ) is 0.8888888888888888\n"
     ]
    }
   ],
   "source": [
    "# Cohen's kappa coefficient (κ)\n",
    "\n",
    "k = (po - pe) / (1 - pe)\n",
    "print('The calculated value of Cohens kappa coefficient (κ) is {}'.format(k))"
   ]
  },
  {
   "cell_type": "code",
   "execution_count": 23,
   "metadata": {},
   "outputs": [
    {
     "name": "stdout",
     "output_type": "stream",
     "text": [
      "The calculated value of Cohens kappa coefficient (κ) is 0.8888888888888888\n"
     ]
    }
   ],
   "source": [
    "# Calculation of cohen kappa coefficient using sklearn library\n",
    "\n",
    "cohen_kappa_score = cohen_kappa_score(df['label'],kpred)\n",
    "print('The calculated value of Cohens kappa coefficient (κ) is {}'.format(cohen_kappa_score))"
   ]
  },
  {
   "cell_type": "markdown",
   "metadata": {},
   "source": [
    "From the above results, we can observe that cohen kappa coefficient calculated using sklearn library and manual method is same. Hence verified."
   ]
  },
  {
   "cell_type": "markdown",
   "metadata": {},
   "source": [
    "### 4. Determine how much variance is explained by the first principal component of the acquired channels ? "
   ]
  },
  {
   "cell_type": "code",
   "execution_count": 24,
   "metadata": {},
   "outputs": [],
   "source": [
    "from sklearn.preprocessing import StandardScaler"
   ]
  },
  {
   "cell_type": "code",
   "execution_count": 25,
   "metadata": {
    "scrolled": true
   },
   "outputs": [
    {
     "data": {
      "text/html": [
       "<div>\n",
       "<style scoped>\n",
       "    .dataframe tbody tr th:only-of-type {\n",
       "        vertical-align: middle;\n",
       "    }\n",
       "\n",
       "    .dataframe tbody tr th {\n",
       "        vertical-align: top;\n",
       "    }\n",
       "\n",
       "    .dataframe thead th {\n",
       "        text-align: right;\n",
       "    }\n",
       "</style>\n",
       "<table border=\"1\" class=\"dataframe\">\n",
       "  <thead>\n",
       "    <tr style=\"text-align: right;\">\n",
       "      <th></th>\n",
       "      <th>radiance</th>\n",
       "      <th>reflectance</th>\n",
       "    </tr>\n",
       "  </thead>\n",
       "  <tbody>\n",
       "    <tr>\n",
       "      <th>0</th>\n",
       "      <td>2.068526</td>\n",
       "      <td>0.579204</td>\n",
       "    </tr>\n",
       "    <tr>\n",
       "      <th>1</th>\n",
       "      <td>1.588779</td>\n",
       "      <td>0.725697</td>\n",
       "    </tr>\n",
       "    <tr>\n",
       "      <th>2</th>\n",
       "      <td>2.308740</td>\n",
       "      <td>0.838262</td>\n",
       "    </tr>\n",
       "    <tr>\n",
       "      <th>3</th>\n",
       "      <td>4.651697</td>\n",
       "      <td>0.338762</td>\n",
       "    </tr>\n",
       "    <tr>\n",
       "      <th>4</th>\n",
       "      <td>3.197330</td>\n",
       "      <td>0.246227</td>\n",
       "    </tr>\n",
       "  </tbody>\n",
       "</table>\n",
       "</div>"
      ],
      "text/plain": [
       "   radiance  reflectance\n",
       "0  2.068526     0.579204\n",
       "1  1.588779     0.725697\n",
       "2  2.308740     0.838262\n",
       "3  4.651697     0.338762\n",
       "4  3.197330     0.246227"
      ]
     },
     "execution_count": 25,
     "metadata": {},
     "output_type": "execute_result"
    }
   ],
   "source": [
    "pca_data = df.copy()\n",
    "pca_data = pca_data[['radiance','reflectance']]\n",
    "pca_data.head()"
   ]
  },
  {
   "cell_type": "code",
   "execution_count": 26,
   "metadata": {
    "scrolled": true
   },
   "outputs": [
    {
     "data": {
      "text/plain": [
       "array([[-0.6620927 ,  0.25406366],\n",
       "       [-1.08193513,  0.94080534],\n",
       "       [-0.45187373,  1.46849861],\n",
       "       [ 1.59852333, -0.87310216],\n",
       "       [ 0.32576003, -1.30689912],\n",
       "       [ 0.51500768, -1.68834982],\n",
       "       [ 0.11032211,  0.56696592],\n",
       "       [-1.28371012,  1.80086699],\n",
       "       [-1.22096182,  1.13972164],\n",
       "       [ 1.22511963, -1.12598721],\n",
       "       [ 0.65966952, -0.41820831],\n",
       "       [ 0.9735776 , -1.7460378 ],\n",
       "       [-1.02381084,  0.36825786],\n",
       "       [-1.3009491 ,  0.44236225],\n",
       "       [-0.25051031,  2.22671084],\n",
       "       [ 0.92219254, -0.30421696],\n",
       "       [ 0.89323003, -1.25407164],\n",
       "       [-0.03091595,  0.10540129],\n",
       "       [-0.69060837,  1.3249857 ],\n",
       "       [-0.91919287, -0.32766699],\n",
       "       [-0.3134984 ,  1.56153648],\n",
       "       [ 0.44201   , -0.24520385],\n",
       "       [ 2.18813033, -0.56974118],\n",
       "       [ 0.69019642, -1.02619193],\n",
       "       [ 0.25994254,  0.68116096],\n",
       "       [-1.44832026,  0.43624529],\n",
       "       [-2.44964027,  0.51289919],\n",
       "       [ 0.7578004 , -0.15747512],\n",
       "       [ 1.38762446, -1.28109493],\n",
       "       [ 1.08432876, -0.36462697],\n",
       "       [-0.43879636, -0.02336435],\n",
       "       [-0.83246672,  1.10289226],\n",
       "       [-0.40442764, -0.12825443],\n",
       "       [ 0.91807898, -0.45956624],\n",
       "       [ 0.19870996, -0.91236676],\n",
       "       [-0.34651373, -0.72094852]])"
      ]
     },
     "execution_count": 26,
     "metadata": {},
     "output_type": "execute_result"
    }
   ],
   "source": [
    "#Standardising the data\n",
    "pca_data = StandardScaler().fit_transform(pca_data)\n",
    "pca_data"
   ]
  },
  {
   "cell_type": "code",
   "execution_count": 27,
   "metadata": {},
   "outputs": [
    {
     "data": {
      "text/plain": [
       "PCA(copy=True, iterated_power='auto', n_components=2, random_state=None,\n",
       "    svd_solver='auto', tol=0.0, whiten=False)"
      ]
     },
     "execution_count": 27,
     "metadata": {},
     "output_type": "execute_result"
    }
   ],
   "source": [
    "# Principal component analysis\n",
    "channel_pca = PCA(n_components=2)\n",
    "channel_pca"
   ]
  },
  {
   "cell_type": "code",
   "execution_count": 28,
   "metadata": {},
   "outputs": [
    {
     "data": {
      "text/html": [
       "<div>\n",
       "<style scoped>\n",
       "    .dataframe tbody tr th:only-of-type {\n",
       "        vertical-align: middle;\n",
       "    }\n",
       "\n",
       "    .dataframe tbody tr th {\n",
       "        vertical-align: top;\n",
       "    }\n",
       "\n",
       "    .dataframe thead th {\n",
       "        text-align: right;\n",
       "    }\n",
       "</style>\n",
       "<table border=\"1\" class=\"dataframe\">\n",
       "  <thead>\n",
       "    <tr style=\"text-align: right;\">\n",
       "      <th></th>\n",
       "      <th>PCA 1</th>\n",
       "      <th>PCA 2</th>\n",
       "      <th>label</th>\n",
       "    </tr>\n",
       "  </thead>\n",
       "  <tbody>\n",
       "    <tr>\n",
       "      <th>0</th>\n",
       "      <td>0.647820</td>\n",
       "      <td>-0.288520</td>\n",
       "      <td>cloud cover</td>\n",
       "    </tr>\n",
       "    <tr>\n",
       "      <th>1</th>\n",
       "      <td>1.430294</td>\n",
       "      <td>-0.099794</td>\n",
       "      <td>cloud cover</td>\n",
       "    </tr>\n",
       "    <tr>\n",
       "      <th>2</th>\n",
       "      <td>1.357908</td>\n",
       "      <td>0.718862</td>\n",
       "      <td>cloud cover</td>\n",
       "    </tr>\n",
       "    <tr>\n",
       "      <th>3</th>\n",
       "      <td>-1.747703</td>\n",
       "      <td>0.512950</td>\n",
       "      <td>sea water</td>\n",
       "    </tr>\n",
       "    <tr>\n",
       "      <th>4</th>\n",
       "      <td>-1.154464</td>\n",
       "      <td>-0.693770</td>\n",
       "      <td>sea water</td>\n",
       "    </tr>\n",
       "    <tr>\n",
       "      <th>5</th>\n",
       "      <td>-1.558009</td>\n",
       "      <td>-0.829678</td>\n",
       "      <td>sea water</td>\n",
       "    </tr>\n",
       "    <tr>\n",
       "      <th>6</th>\n",
       "      <td>0.322896</td>\n",
       "      <td>0.478915</td>\n",
       "      <td>cloud cover</td>\n",
       "    </tr>\n",
       "    <tr>\n",
       "      <th>7</th>\n",
       "      <td>2.181125</td>\n",
       "      <td>0.365685</td>\n",
       "      <td>cloud cover</td>\n",
       "    </tr>\n",
       "    <tr>\n",
       "      <th>8</th>\n",
       "      <td>1.669255</td>\n",
       "      <td>-0.057445</td>\n",
       "      <td>cloud cover</td>\n",
       "    </tr>\n",
       "    <tr>\n",
       "      <th>9</th>\n",
       "      <td>-1.662484</td>\n",
       "      <td>0.070097</td>\n",
       "      <td>sea water</td>\n",
       "    </tr>\n",
       "  </tbody>\n",
       "</table>\n",
       "</div>"
      ],
      "text/plain": [
       "      PCA 1     PCA 2        label\n",
       "0  0.647820 -0.288520  cloud cover\n",
       "1  1.430294 -0.099794  cloud cover\n",
       "2  1.357908  0.718862  cloud cover\n",
       "3 -1.747703  0.512950    sea water\n",
       "4 -1.154464 -0.693770    sea water\n",
       "5 -1.558009 -0.829678    sea water\n",
       "6  0.322896  0.478915  cloud cover\n",
       "7  2.181125  0.365685  cloud cover\n",
       "8  1.669255 -0.057445  cloud cover\n",
       "9 -1.662484  0.070097    sea water"
      ]
     },
     "execution_count": 28,
     "metadata": {},
     "output_type": "execute_result"
    }
   ],
   "source": [
    "# fitting and transform the data using PCA \n",
    "\n",
    "pca_components = channel_pca.fit_transform(pca_data)\n",
    "pca_df = pd.DataFrame(pca_components,columns=['PCA 1','PCA 2'])\n",
    "pca_df['label'] = df['label'].copy()\n",
    "pca_df['label'].replace(1,'cloud cover',inplace=True)\n",
    "pca_df['label'].replace(2,'sea water',inplace=True)\n",
    "pca_df.head(10)"
   ]
  },
  {
   "cell_type": "code",
   "execution_count": 29,
   "metadata": {
    "scrolled": false
   },
   "outputs": [
    {
     "data": {
      "text/plain": [
       "<matplotlib.legend.Legend at 0x1a293f3d2e8>"
      ]
     },
     "execution_count": 29,
     "metadata": {},
     "output_type": "execute_result"
    },
    {
     "data": {
      "image/png": "[encoded data removed]",
      "text/plain": [
       "<Figure size 648x432 with 1 Axes>"
      ]
     },
     "metadata": {
      "needs_background": "light"
     },
     "output_type": "display_data"
    }
   ],
   "source": [
    "# Visualization of results after PCA \n",
    "\n",
    "fig = plt.figure(figsize = (9,6))\n",
    "ax = fig.add_subplot(1,1,1) \n",
    "ax.set_xlabel('Principal Component 1', fontsize = 15)\n",
    "ax.set_ylabel('Principal Component 2', fontsize = 15)\n",
    "ax.set_title('2 component PCA', fontsize = 20)\n",
    "targets = ['cloud cover', 'sea water']\n",
    "colors = ['b', 'g']\n",
    "for target, color in zip(targets,colors):\n",
    "    indicesToKeep = pca_df['label'] == target\n",
    "    ax.scatter(pca_df.loc[indicesToKeep, 'PCA 1']\n",
    "               , pca_df.loc[indicesToKeep, 'PCA 2']\n",
    "               , c = color\n",
    "               , s = 50)\n",
    "ax.legend(targets)\n",
    "#ax.grid()"
   ]
  },
  {
   "cell_type": "markdown",
   "metadata": {},
   "source": [
    "In the above figure you can observe that the both classes are separated from eachother."
   ]
  },
  {
   "cell_type": "code",
   "execution_count": 30,
   "metadata": {},
   "outputs": [
    {
     "name": "stdout",
     "output_type": "stream",
     "text": [
      "Explained variance of PCA is given as [0.81709233 0.18290767]\n"
     ]
    }
   ],
   "source": [
    "# Explained Variance Ratio of PCA \n",
    "\n",
    "print('Explained variance of PCA is given as {}'.format(channel_pca.explained_variance_ratio_))"
   ]
  },
  {
   "cell_type": "markdown",
   "metadata": {},
   "source": [
    "From the above result, we can say that the First principal component of acquired channels comprises about 81.7 % variance and the second principal component comprises about 18.2 % variance.\n",
    "\n",
    "Together both components attribute to 99.9 % of information."
   ]
  },
  {
   "cell_type": "markdown",
   "metadata": {},
   "source": [
    "### 5. By using the first principal component, re-perform a Lloyd’s k-means unsupervised classification and then compute the confusion matrix (CM) and Cohen’s index"
   ]
  },
  {
   "cell_type": "code",
   "execution_count": 31,
   "metadata": {},
   "outputs": [
    {
     "data": {
      "text/html": [
       "<div>\n",
       "<style scoped>\n",
       "    .dataframe tbody tr th:only-of-type {\n",
       "        vertical-align: middle;\n",
       "    }\n",
       "\n",
       "    .dataframe tbody tr th {\n",
       "        vertical-align: top;\n",
       "    }\n",
       "\n",
       "    .dataframe thead th {\n",
       "        text-align: right;\n",
       "    }\n",
       "</style>\n",
       "<table border=\"1\" class=\"dataframe\">\n",
       "  <thead>\n",
       "    <tr style=\"text-align: right;\">\n",
       "      <th></th>\n",
       "      <th>radiance</th>\n",
       "      <th>reflectance</th>\n",
       "      <th>surface_temp</th>\n",
       "      <th>PCA1</th>\n",
       "    </tr>\n",
       "  </thead>\n",
       "  <tbody>\n",
       "    <tr>\n",
       "      <th>0</th>\n",
       "      <td>2.068526</td>\n",
       "      <td>0.579204</td>\n",
       "      <td>277.39425</td>\n",
       "      <td>0.647820</td>\n",
       "    </tr>\n",
       "    <tr>\n",
       "      <th>1</th>\n",
       "      <td>1.588779</td>\n",
       "      <td>0.725697</td>\n",
       "      <td>266.11364</td>\n",
       "      <td>1.430294</td>\n",
       "    </tr>\n",
       "    <tr>\n",
       "      <th>2</th>\n",
       "      <td>2.308740</td>\n",
       "      <td>0.838262</td>\n",
       "      <td>277.84215</td>\n",
       "      <td>1.357908</td>\n",
       "    </tr>\n",
       "    <tr>\n",
       "      <th>3</th>\n",
       "      <td>4.651697</td>\n",
       "      <td>0.338762</td>\n",
       "      <td>297.25935</td>\n",
       "      <td>-1.747703</td>\n",
       "    </tr>\n",
       "    <tr>\n",
       "      <th>4</th>\n",
       "      <td>3.197330</td>\n",
       "      <td>0.246227</td>\n",
       "      <td>282.75330</td>\n",
       "      <td>-1.154464</td>\n",
       "    </tr>\n",
       "  </tbody>\n",
       "</table>\n",
       "</div>"
      ],
      "text/plain": [
       "   radiance  reflectance  surface_temp      PCA1\n",
       "0  2.068526     0.579204     277.39425  0.647820\n",
       "1  1.588779     0.725697     266.11364  1.430294\n",
       "2  2.308740     0.838262     277.84215  1.357908\n",
       "3  4.651697     0.338762     297.25935 -1.747703\n",
       "4  3.197330     0.246227     282.75330 -1.154464"
      ]
     },
     "execution_count": 31,
     "metadata": {},
     "output_type": "execute_result"
    }
   ],
   "source": [
    "Kdata2 =  df.copy()\n",
    "Kdata2 = Kdata[['radiance','reflectance','surface_temp']]\n",
    "Kdata2['PCA1'] = pca_df['PCA 1'].copy()\n",
    "Kdata2.head()"
   ]
  },
  {
   "cell_type": "code",
   "execution_count": 32,
   "metadata": {},
   "outputs": [
    {
     "data": {
      "text/plain": [
       "KMeans(algorithm='auto', copy_x=True, init='k-means++', max_iter=300,\n",
       "       n_clusters=2, n_init=10, n_jobs=None, precompute_distances='auto',\n",
       "       random_state=None, tol=0.0001, verbose=0)"
      ]
     },
     "execution_count": 32,
     "metadata": {},
     "output_type": "execute_result"
    }
   ],
   "source": [
    "kmob2 = KMeans(n_clusters=2)\n",
    "kmob2"
   ]
  },
  {
   "cell_type": "code",
   "execution_count": 33,
   "metadata": {},
   "outputs": [
    {
     "data": {
      "text/html": [
       "<div>\n",
       "<style scoped>\n",
       "    .dataframe tbody tr th:only-of-type {\n",
       "        vertical-align: middle;\n",
       "    }\n",
       "\n",
       "    .dataframe tbody tr th {\n",
       "        vertical-align: top;\n",
       "    }\n",
       "\n",
       "    .dataframe thead th {\n",
       "        text-align: right;\n",
       "    }\n",
       "</style>\n",
       "<table border=\"1\" class=\"dataframe\">\n",
       "  <thead>\n",
       "    <tr style=\"text-align: right;\">\n",
       "      <th></th>\n",
       "      <th>radiance</th>\n",
       "      <th>reflectance</th>\n",
       "      <th>surface_temp</th>\n",
       "      <th>PCA1</th>\n",
       "      <th>cluster</th>\n",
       "    </tr>\n",
       "  </thead>\n",
       "  <tbody>\n",
       "    <tr>\n",
       "      <th>0</th>\n",
       "      <td>2.068526</td>\n",
       "      <td>0.579204</td>\n",
       "      <td>277.39425</td>\n",
       "      <td>0.647820</td>\n",
       "      <td>1</td>\n",
       "    </tr>\n",
       "    <tr>\n",
       "      <th>1</th>\n",
       "      <td>1.588779</td>\n",
       "      <td>0.725697</td>\n",
       "      <td>266.11364</td>\n",
       "      <td>1.430294</td>\n",
       "      <td>1</td>\n",
       "    </tr>\n",
       "    <tr>\n",
       "      <th>2</th>\n",
       "      <td>2.308740</td>\n",
       "      <td>0.838262</td>\n",
       "      <td>277.84215</td>\n",
       "      <td>1.357908</td>\n",
       "      <td>1</td>\n",
       "    </tr>\n",
       "    <tr>\n",
       "      <th>3</th>\n",
       "      <td>4.651697</td>\n",
       "      <td>0.338762</td>\n",
       "      <td>297.25935</td>\n",
       "      <td>-1.747703</td>\n",
       "      <td>2</td>\n",
       "    </tr>\n",
       "    <tr>\n",
       "      <th>4</th>\n",
       "      <td>3.197330</td>\n",
       "      <td>0.246227</td>\n",
       "      <td>282.75330</td>\n",
       "      <td>-1.154464</td>\n",
       "      <td>2</td>\n",
       "    </tr>\n",
       "    <tr>\n",
       "      <th>5</th>\n",
       "      <td>3.413580</td>\n",
       "      <td>0.164858</td>\n",
       "      <td>288.30717</td>\n",
       "      <td>-1.558009</td>\n",
       "      <td>2</td>\n",
       "    </tr>\n",
       "    <tr>\n",
       "      <th>6</th>\n",
       "      <td>2.951153</td>\n",
       "      <td>0.645951</td>\n",
       "      <td>279.79463</td>\n",
       "      <td>0.322896</td>\n",
       "      <td>1</td>\n",
       "    </tr>\n",
       "    <tr>\n",
       "      <th>7</th>\n",
       "      <td>1.358214</td>\n",
       "      <td>0.909161</td>\n",
       "      <td>267.95825</td>\n",
       "      <td>2.181125</td>\n",
       "      <td>1</td>\n",
       "    </tr>\n",
       "    <tr>\n",
       "      <th>8</th>\n",
       "      <td>1.429915</td>\n",
       "      <td>0.768129</td>\n",
       "      <td>273.07966</td>\n",
       "      <td>1.669255</td>\n",
       "      <td>1</td>\n",
       "    </tr>\n",
       "    <tr>\n",
       "      <th>9</th>\n",
       "      <td>4.225014</td>\n",
       "      <td>0.284818</td>\n",
       "      <td>289.70766</td>\n",
       "      <td>-1.662484</td>\n",
       "      <td>2</td>\n",
       "    </tr>\n",
       "  </tbody>\n",
       "</table>\n",
       "</div>"
      ],
      "text/plain": [
       "   radiance  reflectance  surface_temp      PCA1  cluster\n",
       "0  2.068526     0.579204     277.39425  0.647820        1\n",
       "1  1.588779     0.725697     266.11364  1.430294        1\n",
       "2  2.308740     0.838262     277.84215  1.357908        1\n",
       "3  4.651697     0.338762     297.25935 -1.747703        2\n",
       "4  3.197330     0.246227     282.75330 -1.154464        2\n",
       "5  3.413580     0.164858     288.30717 -1.558009        2\n",
       "6  2.951153     0.645951     279.79463  0.322896        1\n",
       "7  1.358214     0.909161     267.95825  2.181125        1\n",
       "8  1.429915     0.768129     273.07966  1.669255        1\n",
       "9  4.225014     0.284818     289.70766 -1.662484        2"
      ]
     },
     "execution_count": 33,
     "metadata": {},
     "output_type": "execute_result"
    }
   ],
   "source": [
    "kmob2.fit_predict(Kdata2[['radiance','reflectance','surface_temp','PCA1']])\n",
    "kpred2 = kmob.labels_ + 1 \n",
    "Kdata2['cluster'] = kpred2.copy()\n",
    "Kdata2.head(10)"
   ]
  },
  {
   "cell_type": "code",
   "execution_count": 34,
   "metadata": {},
   "outputs": [
    {
     "data": {
      "text/plain": [
       "array([[18,  0],\n",
       "       [ 2, 16]], dtype=int64)"
      ]
     },
     "execution_count": 34,
     "metadata": {},
     "output_type": "execute_result"
    }
   ],
   "source": [
    "#Confusion Matrix\n",
    "ConfusionM2 =  confusion_matrix(df['label'],kpred2)\n",
    "ConfusionM2"
   ]
  },
  {
   "cell_type": "code",
   "execution_count": 35,
   "metadata": {},
   "outputs": [
    {
     "name": "stdout",
     "output_type": "stream",
     "text": [
      "The calculated value of Cohens kappa coefficient (κ) is 0.8888888888888888\n"
     ]
    }
   ],
   "source": [
    "# Calculation of cohen kappa coefficient using sklearn library\n",
    "\n",
    "from sklearn.metrics import confusion_matrix,cohen_kappa_score\n",
    "\n",
    "cohen_kappa_score = cohen_kappa_score(df['label'].values,kpred2)\n",
    "print('The calculated value of Cohens kappa coefficient (κ) is {}'.format(cohen_kappa_score))"
   ]
  },
  {
   "cell_type": "markdown",
   "metadata": {},
   "source": [
    "### 6. Apply a (running) average 3x3 numerical filter to both channel-1 and channel-2 images using a zero-padding technique and then display smoothed images comparing them with the original ones"
   ]
  },
  {
   "cell_type": "code",
   "execution_count": 36,
   "metadata": {},
   "outputs": [],
   "source": [
    "import cv2"
   ]
  },
  {
   "cell_type": "code",
   "execution_count": 37,
   "metadata": {},
   "outputs": [],
   "source": [
    "# Zero padding\n",
    "def padding(vector,pad_width,iaxis,kwargs):\n",
    "    pad_val = kwargs.get('padder',0)\n",
    "    vector[:pad_width[0]] = pad_val\n",
    "    vector[-pad_width[1]:] = pad_val"
   ]
  },
  {
   "cell_type": "code",
   "execution_count": 38,
   "metadata": {
    "scrolled": true
   },
   "outputs": [
    {
     "data": {
      "image/png": "[encoded data removed]",
      "text/plain": [
       "<Figure size 720x432 with 2 Axes>"
      ]
     },
     "metadata": {
      "needs_background": "light"
     },
     "output_type": "display_data"
    }
   ],
   "source": [
    "# padding the channel 1 image\n",
    "\n",
    "zeropad_ch1 = np.pad(ch1,1,padding)\n",
    "    \n",
    "fig = plt.figure(figsize=(10,6))\n",
    "\n",
    "plt.subplot(121)\n",
    "plt.imshow(ch1, cmap='viridis',interpolation='nearest')\n",
    "plt.xlabel('x coordinate')\n",
    "plt.ylabel('y coordinate')\n",
    "plt.title('Original Channel 1 Radiance')\n",
    "\n",
    "plt.subplot(122)\n",
    "plt.imshow(zeropad_ch1,cmap='viridis',interpolation='nearest')\n",
    "plt.xlabel('x coordinate')\n",
    "plt.ylabel('y coordinate')\n",
    "plt.title('Channel 1 Radiance Zero Padded')\n",
    "\n",
    "plt.show()"
   ]
  },
  {
   "cell_type": "code",
   "execution_count": 39,
   "metadata": {
    "scrolled": false
   },
   "outputs": [
    {
     "data": {
      "image/png": "[encoded data removed]",
      "text/plain": [
       "<Figure size 720x432 with 2 Axes>"
      ]
     },
     "metadata": {
      "needs_background": "light"
     },
     "output_type": "display_data"
    }
   ],
   "source": [
    "# Zero padded image for channel 2\n",
    "zeropad_ch2 = np.pad(ch2,1,padding)\n",
    "\n",
    "fig = plt.figure(figsize=(10,6))\n",
    "\n",
    "plt.subplot(121)\n",
    "plt.imshow(ch2, cmap='viridis',interpolation='nearest')\n",
    "plt.xlabel('x coordinate')\n",
    "plt.ylabel('y coordinate')\n",
    "plt.title('Original Channel 2 Reflectance')\n",
    "\n",
    "plt.subplot(122)\n",
    "plt.imshow(zeropad_ch2,cmap='viridis',interpolation='nearest')\n",
    "plt.xlabel('x coordinate')\n",
    "plt.ylabel('y coordinate')\n",
    "plt.title('Channel 2 Reflectance Zero Padded')\n",
    "\n",
    "plt.show()"
   ]
  },
  {
   "cell_type": "code",
   "execution_count": 40,
   "metadata": {
    "scrolled": false
   },
   "outputs": [
    {
     "name": "stdout",
     "output_type": "stream",
     "text": [
      "The shape of image is (288, 432, 3)\n"
     ]
    },
    {
     "data": {
      "image/png": "[encoded data removed]",
      "text/plain": [
       "<Figure size 432x288 with 1 Axes>"
      ]
     },
     "metadata": {
      "needs_background": "light"
     },
     "output_type": "display_data"
    }
   ],
   "source": [
    "# channel 1 image 1\n",
    "channel1 = plt.imshow(zeropad_ch1)\n",
    "plt.savefig('channel1.png')\n",
    "channel1 = 'channel1.png'\n",
    "image1  = cv2.imread(channel1,1)\n",
    "print('The shape of image is {}'.format(image1.shape))"
   ]
  },
  {
   "cell_type": "code",
   "execution_count": 41,
   "metadata": {
    "scrolled": true
   },
   "outputs": [
    {
     "name": "stdout",
     "output_type": "stream",
     "text": [
      "The shape of image is (288, 432, 3)\n"
     ]
    },
    {
     "data": {
      "image/png": "[encoded data removed]",
      "text/plain": [
       "<Figure size 432x288 with 1 Axes>"
      ]
     },
     "metadata": {
      "needs_background": "light"
     },
     "output_type": "display_data"
    }
   ],
   "source": [
    "# channel 2 image 2\n",
    "channel2 = plt.imshow(zeropad_ch2)\n",
    "plt.savefig('channel2.png')\n",
    "channel2 = 'channel2.png'\n",
    "image2  = cv2.imread(channel2)\n",
    "print('The shape of image is {}'.format(image2.shape))"
   ]
  },
  {
   "cell_type": "code",
   "execution_count": 42,
   "metadata": {},
   "outputs": [],
   "source": [
    "# smoothing of Channel 1 image \n",
    "\n",
    "def smoothing_function(originalImage):\n",
    "    \n",
    "    zero_pad = np.pad(originalImage,1,padding)\n",
    "    smoothedImage = [] #initialize second image\n",
    "\n",
    "    for y in range(1, 7):\n",
    "        for x in range(1, 7): \n",
    "            px1 = zero_pad[x-1][y-1] #0/0\n",
    "            px2 = zero_pad[x-1][y] #0/1\n",
    "            px3 = zero_pad[x-1][y+1] #0/2\n",
    "            px4 = zero_pad[x][y-1] #1/0\n",
    "            px5 = zero_pad[x][y] #1/1\n",
    "            px6 = zero_pad[x][y+1] #1/2\n",
    "            px7 = zero_pad[x+1][y-1] #2/0\n",
    "            px8 = zero_pad[x+1][y] #2/1\n",
    "            px9 = zero_pad[x+1][y+1] #2/2\n",
    "            average = px1/9. + px2/9. + px3/9. + px4/9. + px5/9. + px6/9. + px7/9. + px8/9. + px9/9.\n",
    "            smoothedImage.append(average)   #1/1\n",
    "\n",
    "    smoothedImage = np.array(smoothedImage)\n",
    "    smoothedImage = smoothedImage.reshape(6,6)\n",
    "    return smoothedImage"
   ]
  },
  {
   "cell_type": "code",
   "execution_count": 43,
   "metadata": {},
   "outputs": [
    {
     "data": {
      "text/plain": [
       "<matplotlib.image.AxesImage at 0x1a295677eb8>"
      ]
     },
     "execution_count": 43,
     "metadata": {},
     "output_type": "execute_result"
    },
    {
     "data": {
      "image/png": "[encoded data removed]",
      "text/plain": [
       "<Figure size 432x288 with 1 Axes>"
      ]
     },
     "metadata": {
      "needs_background": "light"
     },
     "output_type": "display_data"
    }
   ],
   "source": [
    "smoothedImage1 = smoothing_function(ch1)\n",
    "plt.imshow(ch1)"
   ]
  },
  {
   "cell_type": "code",
   "execution_count": 118,
   "metadata": {},
   "outputs": [
    {
     "data": {
      "image/png": "[encoded data removed]",
      "text/plain": [
       "<Figure size 864x504 with 8 Axes>"
      ]
     },
     "metadata": {
      "needs_background": "light"
     },
     "output_type": "display_data"
    }
   ],
   "source": [
    "# Original Channel Vs Smoothed Image \n",
    "\n",
    "smoothedImage1 = smoothing_function(ch1)\n",
    "smoothedImage2 = smoothing_function(ch2)\n",
    "\n",
    "fig, axs = plt.subplots(nrows=2, ncols=2, figsize=(12, 7),constrained_layout=True)\n",
    "channels = [ch1,smoothedImage1,ch2,smoothedImage2]\n",
    "titles  = ['Original Channel 1','Smoothed Image Input Channel 1','Original Channel 2','Smoothed Image Input Channel 2']\n",
    "\n",
    "for ax,ch,title in zip(axs.flat,channels,titles):\n",
    "    clrbar = ax.imshow(ch, cmap = 'viridis', interpolation='nearest')\n",
    "    fig.colorbar(clrbar, ax=ax)\n",
    "    ax.set_xlabel('x coordinate')\n",
    "    ax.set_ylabel('y coordinate')\n",
    "    ax.set_title(str(title))"
   ]
  },
  {
   "cell_type": "markdown",
   "metadata": {},
   "source": [
    "### 7. By using the smoothed channel images, re-perform a Lloyd’s k-means unsupervised classification and then compute the confusion matrix (CM) and Cohen’s index (k)."
   ]
  },
  {
   "cell_type": "code",
   "execution_count": 53,
   "metadata": {},
   "outputs": [
    {
     "data": {
      "text/html": [
       "<div>\n",
       "<style scoped>\n",
       "    .dataframe tbody tr th:only-of-type {\n",
       "        vertical-align: middle;\n",
       "    }\n",
       "\n",
       "    .dataframe tbody tr th {\n",
       "        vertical-align: top;\n",
       "    }\n",
       "\n",
       "    .dataframe thead th {\n",
       "        text-align: right;\n",
       "    }\n",
       "</style>\n",
       "<table border=\"1\" class=\"dataframe\">\n",
       "  <thead>\n",
       "    <tr style=\"text-align: right;\">\n",
       "      <th></th>\n",
       "      <th>smooth_ch1_image1</th>\n",
       "      <th>smooth_ch2_image2</th>\n",
       "    </tr>\n",
       "  </thead>\n",
       "  <tbody>\n",
       "    <tr>\n",
       "      <th>0</th>\n",
       "      <td>0.885186</td>\n",
       "      <td>0.317779</td>\n",
       "    </tr>\n",
       "    <tr>\n",
       "      <th>1</th>\n",
       "      <td>1.217820</td>\n",
       "      <td>0.453661</td>\n",
       "    </tr>\n",
       "    <tr>\n",
       "      <th>2</th>\n",
       "      <td>1.234863</td>\n",
       "      <td>0.448979</td>\n",
       "    </tr>\n",
       "    <tr>\n",
       "      <th>3</th>\n",
       "      <td>1.232959</td>\n",
       "      <td>0.419341</td>\n",
       "    </tr>\n",
       "    <tr>\n",
       "      <th>4</th>\n",
       "      <td>1.366716</td>\n",
       "      <td>0.425715</td>\n",
       "    </tr>\n",
       "  </tbody>\n",
       "</table>\n",
       "</div>"
      ],
      "text/plain": [
       "   smooth_ch1_image1  smooth_ch2_image2\n",
       "0           0.885186           0.317779\n",
       "1           1.217820           0.453661\n",
       "2           1.234863           0.448979\n",
       "3           1.232959           0.419341\n",
       "4           1.366716           0.425715"
      ]
     },
     "execution_count": 53,
     "metadata": {},
     "output_type": "execute_result"
    }
   ],
   "source": [
    "smooth_df = pd.DataFrame({'smooth_ch1_image1': smoothedImage1.flatten(),'smooth_ch2_image2':smoothedImage2.flatten()})\n",
    "smooth_df.head()"
   ]
  },
  {
   "cell_type": "code",
   "execution_count": 54,
   "metadata": {},
   "outputs": [
    {
     "data": {
      "text/html": [
       "<div>\n",
       "<style scoped>\n",
       "    .dataframe tbody tr th:only-of-type {\n",
       "        vertical-align: middle;\n",
       "    }\n",
       "\n",
       "    .dataframe tbody tr th {\n",
       "        vertical-align: top;\n",
       "    }\n",
       "\n",
       "    .dataframe thead th {\n",
       "        text-align: right;\n",
       "    }\n",
       "</style>\n",
       "<table border=\"1\" class=\"dataframe\">\n",
       "  <thead>\n",
       "    <tr style=\"text-align: right;\">\n",
       "      <th></th>\n",
       "      <th>smooth_ch1_image1</th>\n",
       "      <th>smooth_ch2_image2</th>\n",
       "      <th>cluster</th>\n",
       "    </tr>\n",
       "  </thead>\n",
       "  <tbody>\n",
       "    <tr>\n",
       "      <th>0</th>\n",
       "      <td>0.885186</td>\n",
       "      <td>0.317779</td>\n",
       "      <td>1</td>\n",
       "    </tr>\n",
       "    <tr>\n",
       "      <th>1</th>\n",
       "      <td>1.217820</td>\n",
       "      <td>0.453661</td>\n",
       "      <td>1</td>\n",
       "    </tr>\n",
       "    <tr>\n",
       "      <th>2</th>\n",
       "      <td>1.234863</td>\n",
       "      <td>0.448979</td>\n",
       "      <td>1</td>\n",
       "    </tr>\n",
       "    <tr>\n",
       "      <th>3</th>\n",
       "      <td>1.232959</td>\n",
       "      <td>0.419341</td>\n",
       "      <td>1</td>\n",
       "    </tr>\n",
       "    <tr>\n",
       "      <th>4</th>\n",
       "      <td>1.366716</td>\n",
       "      <td>0.425715</td>\n",
       "      <td>1</td>\n",
       "    </tr>\n",
       "    <tr>\n",
       "      <th>5</th>\n",
       "      <td>0.943307</td>\n",
       "      <td>0.285408</td>\n",
       "      <td>1</td>\n",
       "    </tr>\n",
       "    <tr>\n",
       "      <th>6</th>\n",
       "      <td>1.300592</td>\n",
       "      <td>0.496267</td>\n",
       "      <td>1</td>\n",
       "    </tr>\n",
       "    <tr>\n",
       "      <th>7</th>\n",
       "      <td>1.915319</td>\n",
       "      <td>0.743260</td>\n",
       "      <td>1</td>\n",
       "    </tr>\n",
       "    <tr>\n",
       "      <th>8</th>\n",
       "      <td>1.949930</td>\n",
       "      <td>0.740783</td>\n",
       "      <td>1</td>\n",
       "    </tr>\n",
       "    <tr>\n",
       "      <th>9</th>\n",
       "      <td>1.792028</td>\n",
       "      <td>0.696289</td>\n",
       "      <td>1</td>\n",
       "    </tr>\n",
       "  </tbody>\n",
       "</table>\n",
       "</div>"
      ],
      "text/plain": [
       "   smooth_ch1_image1  smooth_ch2_image2  cluster\n",
       "0           0.885186           0.317779        1\n",
       "1           1.217820           0.453661        1\n",
       "2           1.234863           0.448979        1\n",
       "3           1.232959           0.419341        1\n",
       "4           1.366716           0.425715        1\n",
       "5           0.943307           0.285408        1\n",
       "6           1.300592           0.496267        1\n",
       "7           1.915319           0.743260        1\n",
       "8           1.949930           0.740783        1\n",
       "9           1.792028           0.696289        1"
      ]
     },
     "execution_count": 54,
     "metadata": {},
     "output_type": "execute_result"
    }
   ],
   "source": [
    "# KMeans for Smoothed Images\n",
    "km_smooth = KMeans(n_clusters=2)\n",
    "km_smooth\n",
    "\n",
    "km_smooth.fit_predict(smooth_df[['smooth_ch1_image1','smooth_ch2_image2']])\n",
    "kpred = km_smooth.labels_ + 1 \n",
    "smooth_df['cluster'] = kpred.copy()\n",
    "smooth_df.head(10)"
   ]
  },
  {
   "cell_type": "code",
   "execution_count": 55,
   "metadata": {},
   "outputs": [
    {
     "data": {
      "text/plain": [
       "array([[10,  8],\n",
       "       [12,  6]], dtype=int64)"
      ]
     },
     "execution_count": 55,
     "metadata": {},
     "output_type": "execute_result"
    }
   ],
   "source": [
    "#Confusion Matrix\n",
    "ConfusionM2 =  confusion_matrix(df['label'],kpred)\n",
    "ConfusionM2"
   ]
  },
  {
   "cell_type": "code",
   "execution_count": 56,
   "metadata": {},
   "outputs": [
    {
     "name": "stdout",
     "output_type": "stream",
     "text": [
      "The calculated value of Cohens kappa coefficient (κ) is -0.11111111111111116\n"
     ]
    }
   ],
   "source": [
    "# Calculation of cohen kappa coefficient using sklearn library\n",
    "\n",
    "from sklearn.metrics import confusion_matrix,cohen_kappa_score\n",
    "\n",
    "cohen_kappa_score = cohen_kappa_score(df['label'],kpred)\n",
    "print('The calculated value of Cohens kappa coefficient (κ) is {}'.format(cohen_kappa_score))"
   ]
  },
  {
   "cell_type": "code",
   "execution_count": null,
   "metadata": {},
   "outputs": [],
   "source": []
  },
  {
   "cell_type": "markdown",
   "metadata": {},
   "source": [
    "### 8. By using the collocated channel and parameter data, develop a statistical retrieval algorithm (e.g., linear regression) to estimate parameter value from spectral radiance (channel 1) and provide error bias (mean) and standard deviation in kelvins. "
   ]
  },
  {
   "cell_type": "code",
   "execution_count": 57,
   "metadata": {},
   "outputs": [
    {
     "data": {
      "text/plain": [
       "LinearRegression(copy_X=True, fit_intercept=True, n_jobs=None, normalize=False)"
      ]
     },
     "execution_count": 57,
     "metadata": {},
     "output_type": "execute_result"
    }
   ],
   "source": [
    "from sklearn.linear_model import LinearRegression\n",
    "from sklearn.model_selection import train_test_split\n",
    "\n",
    "model =  LinearRegression()\n",
    "model"
   ]
  },
  {
   "cell_type": "code",
   "execution_count": 58,
   "metadata": {},
   "outputs": [
    {
     "data": {
      "text/html": [
       "<div>\n",
       "<style scoped>\n",
       "    .dataframe tbody tr th:only-of-type {\n",
       "        vertical-align: middle;\n",
       "    }\n",
       "\n",
       "    .dataframe tbody tr th {\n",
       "        vertical-align: top;\n",
       "    }\n",
       "\n",
       "    .dataframe thead th {\n",
       "        text-align: right;\n",
       "    }\n",
       "</style>\n",
       "<table border=\"1\" class=\"dataframe\">\n",
       "  <thead>\n",
       "    <tr style=\"text-align: right;\">\n",
       "      <th></th>\n",
       "      <th>radiance</th>\n",
       "      <th>reflectance</th>\n",
       "      <th>label</th>\n",
       "      <th>surface_temp</th>\n",
       "    </tr>\n",
       "  </thead>\n",
       "  <tbody>\n",
       "    <tr>\n",
       "      <th>0</th>\n",
       "      <td>2.068526</td>\n",
       "      <td>0.579204</td>\n",
       "      <td>1</td>\n",
       "      <td>277.39425</td>\n",
       "    </tr>\n",
       "    <tr>\n",
       "      <th>1</th>\n",
       "      <td>1.588779</td>\n",
       "      <td>0.725697</td>\n",
       "      <td>1</td>\n",
       "      <td>266.11364</td>\n",
       "    </tr>\n",
       "    <tr>\n",
       "      <th>2</th>\n",
       "      <td>2.308740</td>\n",
       "      <td>0.838262</td>\n",
       "      <td>1</td>\n",
       "      <td>277.84215</td>\n",
       "    </tr>\n",
       "    <tr>\n",
       "      <th>3</th>\n",
       "      <td>4.651697</td>\n",
       "      <td>0.338762</td>\n",
       "      <td>2</td>\n",
       "      <td>297.25935</td>\n",
       "    </tr>\n",
       "    <tr>\n",
       "      <th>4</th>\n",
       "      <td>3.197330</td>\n",
       "      <td>0.246227</td>\n",
       "      <td>2</td>\n",
       "      <td>282.75330</td>\n",
       "    </tr>\n",
       "  </tbody>\n",
       "</table>\n",
       "</div>"
      ],
      "text/plain": [
       "   radiance  reflectance  label  surface_temp\n",
       "0  2.068526     0.579204      1     277.39425\n",
       "1  1.588779     0.725697      1     266.11364\n",
       "2  2.308740     0.838262      1     277.84215\n",
       "3  4.651697     0.338762      2     297.25935\n",
       "4  3.197330     0.246227      2     282.75330"
      ]
     },
     "execution_count": 58,
     "metadata": {},
     "output_type": "execute_result"
    }
   ],
   "source": [
    "# loading the original dataset\n",
    "df.head()"
   ]
  },
  {
   "cell_type": "code",
   "execution_count": 79,
   "metadata": {},
   "outputs": [
    {
     "data": {
      "text/plain": [
       "array([275.98984946, 274.7556571 , 274.25026475, 295.14013969,\n",
       "       285.6689503 , 276.62226108, 288.4020606 , 278.78337108,\n",
       "       289.66570838, 271.5854436 , 283.66673601])"
      ]
     },
     "execution_count": 79,
     "metadata": {},
     "output_type": "execute_result"
    }
   ],
   "source": [
    "# Training feature and target variables\n",
    "X = df[['radiance','reflectance']]\n",
    "y = df['surface_temp']\n",
    "\n",
    "# splitting into Training and Test datasets\n",
    "Xtrain,Xtest,ytrain,ytest = train_test_split(X,y,test_size=0.3,shuffle=True)\n",
    "\n",
    "# Training the model\n",
    "model.fit(Xtrain,ytrain)\n",
    "ypred = model.predict(Xtest)\n",
    "ypred"
   ]
  },
  {
   "cell_type": "code",
   "execution_count": 80,
   "metadata": {},
   "outputs": [
    {
     "name": "stdout",
     "output_type": "stream",
     "text": [
      "Accuracy score is 0.8661700727584845\n"
     ]
    }
   ],
   "source": [
    "# Model accuracy\n",
    "acc = model.score(Xtest,ytest)\n",
    "print('Accuracy score is {}'.format(acc))"
   ]
  },
  {
   "cell_type": "code",
   "execution_count": 81,
   "metadata": {},
   "outputs": [
    {
     "data": {
      "text/plain": [
       "array([ 5.2855341, -7.4170369])"
      ]
     },
     "execution_count": 81,
     "metadata": {},
     "output_type": "execute_result"
    }
   ],
   "source": [
    "#Model Coefficients\n",
    "model.coef_"
   ]
  },
  {
   "cell_type": "code",
   "execution_count": 82,
   "metadata": {},
   "outputs": [
    {
     "data": {
      "text/plain": [
       "269.9849729670075"
      ]
     },
     "execution_count": 82,
     "metadata": {},
     "output_type": "execute_result"
    }
   ],
   "source": [
    "# Model Intercept\n",
    "model.intercept_"
   ]
  },
  {
   "cell_type": "code",
   "execution_count": 84,
   "metadata": {},
   "outputs": [
    {
     "name": "stdout",
     "output_type": "stream",
     "text": [
      "Root Mean Square Error is 3.079780449344986\n"
     ]
    }
   ],
   "source": [
    "from sklearn.metrics import mean_squared_error\n",
    "\n",
    "# Root mean squared Error\n",
    "\n",
    "print('Root Mean Square Error is {}'.format(np.sqrt(mean_squared_error(ytest,ypred))))"
   ]
  },
  {
   "cell_type": "code",
   "execution_count": 85,
   "metadata": {},
   "outputs": [
    {
     "name": "stdout",
     "output_type": "stream",
     "text": [
      "Mean Squared Error is 9.485047616167604\n"
     ]
    }
   ],
   "source": [
    "# Mean Squared Error\n",
    "mse = mean_squared_error(ytest,ypred)\n",
    "print('Mean Squared Error is {}'.format(mse))"
   ]
  },
  {
   "cell_type": "code",
   "execution_count": 115,
   "metadata": {},
   "outputs": [],
   "source": [
    "# Manual implementation of the above function to calculate Variance and Standard deviation\n",
    "\n",
    "def MSE(ytrue,ypred):\n",
    "    var = (ytrue - ypred)\n",
    "    n = len(var)\n",
    "    tvar = var * var\n",
    "    std  = np.sqrt(tvar)\n",
    "    std = std.sum()/n    # taking standard deviation for n observations in the test data set\n",
    "    \n",
    "    MSE = tvar.sum()\n",
    "    MSE = MSE/n\n",
    "    \n",
    "    return std,MSE"
   ]
  },
  {
   "cell_type": "code",
   "execution_count": 116,
   "metadata": {},
   "outputs": [
    {
     "name": "stdout",
     "output_type": "stream",
     "text": [
      "Standard Deviation of the model is 2.5117274636153195 Kelvins\n",
      "Error Bias or Mean of the model is 9.485047616167604\n"
     ]
    }
   ],
   "source": [
    "# Variance, Standard Deviation and MSE \n",
    "\n",
    "std,MSE = MSE(ytest,ypred)\n",
    "\n",
    "print('Standard Deviation of the model is {} Kelvins'.format(std))\n",
    "print('Error Bias or Mean of the model is {}'.format(MSE))"
   ]
  },
  {
   "cell_type": "code",
   "execution_count": null,
   "metadata": {},
   "outputs": [],
   "source": []
  }
 ],
 "metadata": {
  "kernelspec": {
   "display_name": "Python 3",
   "language": "python",
   "name": "python3"
  },
  "language_info": {
   "codemirror_mode": {
    "name": "ipython",
    "version": 3
   },
   "file_extension": ".py",
   "mimetype": "text/x-python",
   "name": "python",
   "nbconvert_exporter": "python",
   "pygments_lexer": "ipython3",
   "version": "3.7.3"
  }
 },
 "nbformat": 4,
 "nbformat_minor": 2
}
